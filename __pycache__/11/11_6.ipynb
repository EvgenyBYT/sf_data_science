{
 "cells": [
  {
   "cell_type": "code",
   "execution_count": 2,
   "metadata": {},
   "outputs": [],
   "source": [
    "import pandas as pd\n",
    "\n",
    "velo_data=pd.read_csv('data/citibike-tripdata.csv', sep=',')\n",
    "velo_df=velo_data.copy()"
   ]
  },
  {
   "cell_type": "code",
   "execution_count": 3,
   "metadata": {},
   "outputs": [
    {
     "data": {
      "text/plain": [
       "Subscriber    232202\n",
       "Customer       67798\n",
       "Name: usertype, dtype: int64"
      ]
     },
     "metadata": {},
     "output_type": "display_data"
    },
    {
     "data": {
      "text/plain": [
       "0.7740066666666666"
      ]
     },
     "metadata": {},
     "output_type": "display_data"
    }
   ],
   "source": [
    "display(velo_df['usertype'].value_counts())\n",
    "display(232202/(232202+67798))"
   ]
  },
  {
   "cell_type": "code",
   "execution_count": 4,
   "metadata": {},
   "outputs": [
    {
     "data": {
      "text/plain": [
       "1    183582\n",
       "2     74506\n",
       "0     41912\n",
       "Name: gender, dtype: int64"
      ]
     },
     "metadata": {},
     "output_type": "display_data"
    }
   ],
   "source": [
    "display(velo_df['gender'].value_counts())"
   ]
  },
  {
   "cell_type": "code",
   "execution_count": 5,
   "metadata": {},
   "outputs": [
    {
     "data": {
      "text/plain": [
       "2002"
      ]
     },
     "metadata": {},
     "output_type": "display_data"
    }
   ],
   "source": [
    "display(velo_df['birth year'].max())"
   ]
  },
  {
   "cell_type": "code",
   "execution_count": 6,
   "metadata": {},
   "outputs": [
    {
     "data": {
      "text/plain": [
       "Grand Army Plaza & Central Park S    1928\n",
       "Central Park S & 6 Ave               1909\n",
       "Pershing Square North                1873\n",
       "12 Ave & W 40 St                     1845\n",
       "West St & Chambers St                1835\n",
       "                                     ... \n",
       "NYCBS Depot - GOW                      15\n",
       "Franklin Ave & Empire Blvd             11\n",
       "Railroad Ave & Kay Ave                  9\n",
       "47 Ave & Skillman Ave                   7\n",
       "Eastern Pkwy & Washington Ave           6\n",
       "Name: start station name, Length: 759, dtype: int64"
      ]
     },
     "metadata": {},
     "output_type": "display_data"
    },
    {
     "data": {
      "text/plain": [
       "West St & Chambers St          1963\n",
       "12 Ave & W 40 St               1909\n",
       "Pershing Square North          1850\n",
       "Central Park S & 6 Ave         1828\n",
       "E 17 St & Broadway             1804\n",
       "                               ... \n",
       "Exchange Place                    3\n",
       "Union St                          1\n",
       "Warren St                         1\n",
       "Montrose Ave & Bushwick Ave       1\n",
       "Liberty Light Rail                1\n",
       "Name: end station name, Length: 765, dtype: int64"
      ]
     },
     "metadata": {},
     "output_type": "display_data"
    }
   ],
   "source": [
    "display(velo_df['start station name'].value_counts())\n",
    "display(velo_df['end station name'].value_counts())"
   ]
  },
  {
   "cell_type": "code",
   "execution_count": 7,
   "metadata": {},
   "outputs": [],
   "source": [
    "velo_df.drop(['start station id', 'end station id'], axis=1, inplace=True)\n"
   ]
  },
  {
   "cell_type": "code",
   "execution_count": 8,
   "metadata": {},
   "outputs": [
    {
     "data": {
      "text/plain": [
       "12"
      ]
     },
     "metadata": {},
     "output_type": "display_data"
    }
   ],
   "source": [
    "display(velo_df.shape[1])"
   ]
  },
  {
   "cell_type": "code",
   "execution_count": 9,
   "metadata": {},
   "outputs": [
    {
     "data": {
      "text/plain": [
       "11837"
      ]
     },
     "metadata": {},
     "output_type": "display_data"
    }
   ],
   "source": [
    "velo_df['age']=2018-velo_df['birth year']\n",
    "velo_df.drop(['birth year'],axis=1,inplace=True)\n",
    "display(velo_df[velo_df['age']>60].shape[0])"
   ]
  },
  {
   "cell_type": "code",
   "execution_count": 10,
   "metadata": {},
   "outputs": [
    {
     "data": {
      "text/plain": [
       "0        0 days 00:27:15.365000\n",
       "1        0 days 00:02:12.200000\n",
       "2        0 days 00:55:37.898000\n",
       "3        0 days 00:07:16.837000\n",
       "4        0 days 02:20:57.993000\n",
       "                  ...          \n",
       "299995   0 days 00:07:23.648000\n",
       "299996   0 days 00:11:33.138000\n",
       "299997   0 days 00:05:12.997000\n",
       "299998   0 days 00:56:00.092000\n",
       "299999   0 days 00:03:45.051000\n",
       "Name: trip duration, Length: 300000, dtype: timedelta64[ns]"
      ]
     },
     "metadata": {},
     "output_type": "display_data"
    }
   ],
   "source": [
    "velo_df['stoptime']=pd.to_datetime(velo_df['stoptime'], dayfirst=True)\n",
    "velo_df['starttime']=pd.to_datetime(velo_df['starttime'], dayfirst=True)\n",
    "velo_df['trip duration']=velo_df['stoptime']-velo_df['starttime']\n",
    "display(velo_df['trip duration'])"
   ]
  },
  {
   "cell_type": "code",
   "execution_count": 11,
   "metadata": {},
   "outputs": [
    {
     "data": {
      "text/plain": [
       "115135"
      ]
     },
     "metadata": {},
     "output_type": "display_data"
    }
   ],
   "source": [
    "velo_df['weekend']=velo_df['starttime'].dt.day_of_week\n",
    "velo_df['weekend']=velo_df['weekend'].apply(lambda x: 1 if x==5 or x==6 else 0)\n",
    "display(velo_df[velo_df['weekend']==1].shape[0])\n"
   ]
  },
  {
   "cell_type": "code",
   "execution_count": 12,
   "metadata": {},
   "outputs": [
    {
     "data": {
      "text/plain": [
       "day        143012\n",
       "morning     95530\n",
       "evening     46373\n",
       "night       15085\n",
       "Name: time_of_day, dtype: int64"
      ]
     },
     "metadata": {},
     "output_type": "display_data"
    },
    {
     "name": "stdout",
     "output_type": "stream",
     "text": [
      "9\n"
     ]
    }
   ],
   "source": [
    "def get_time_of_day(time):\n",
    "    if 0 <= time <= 6:\n",
    "        return 'night'\n",
    "    elif 6 < time <= 12:\n",
    "        return 'morning'\n",
    "    elif 12 < time <= 18:\n",
    "        return 'day'\n",
    "    elif 18 < time <= 23:\n",
    "        return 'evening'\n",
    "    else:\n",
    "        return 'else'\n",
    "velo_df['time_of_day'] = velo_df['starttime'].dt.hour.apply(get_time_of_day)\n",
    "a = velo_df[velo_df['time_of_day'] == 'day'].shape[0]\n",
    "b = velo_df[velo_df['time_of_day'] == 'night'].shape[0]\n",
    "display(velo_df['time_of_day'].value_counts())\n",
    "print(round(a / b))\n",
    "\n"
   ]
  }
 ],
 "metadata": {
  "kernelspec": {
   "display_name": "Python 3.9.13 64-bit",
   "language": "python",
   "name": "python3"
  },
  "language_info": {
   "codemirror_mode": {
    "name": "ipython",
    "version": 3
   },
   "file_extension": ".py",
   "mimetype": "text/x-python",
   "name": "python",
   "nbconvert_exporter": "python",
   "pygments_lexer": "ipython3",
   "version": "3.9.13"
  },
  "orig_nbformat": 4,
  "vscode": {
   "interpreter": {
    "hash": "75fc1d878470ca4199cebcc89e8bd189d3270877c6c91d88001610ec04f91d72"
   }
  }
 },
 "nbformat": 4,
 "nbformat_minor": 2
}
