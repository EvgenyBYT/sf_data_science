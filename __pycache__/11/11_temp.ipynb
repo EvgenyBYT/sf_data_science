{
 "cells": [
  {
   "cell_type": "code",
   "execution_count": 3,
   "metadata": {},
   "outputs": [],
   "source": [
    "import pandas as pd\n",
    "\n",
    "melb_data=pd.read_csv('data/melb_data_ps.csv', sep=',')"
   ]
  },
  {
   "cell_type": "code",
   "execution_count": 4,
   "metadata": {},
   "outputs": [],
   "source": [
    "melb_df=melb_data.copy()\n",
    "\n",
    "melb_df.drop(['index','Coordinates'],axis=1,inplace=True)"
   ]
  },
  {
   "cell_type": "code",
   "execution_count": null,
   "metadata": {},
   "outputs": [],
   "source": [
    "total_rooms=melb_df['Rooms'] + melb_df['Bathroom'] + melb_df['Bedroom']\n",
    "display(total_rooms)"
   ]
  },
  {
   "cell_type": "code",
   "execution_count": null,
   "metadata": {},
   "outputs": [],
   "source": [
    "melb_df['MeanRoomsSquare']=melb_df['BuildingArea']/total_rooms\n",
    "display(melb_df['MeanRoomsSquare'])"
   ]
  },
  {
   "cell_type": "code",
   "execution_count": null,
   "metadata": {},
   "outputs": [],
   "source": [
    "diff_area=melb_df['BuildingArea']-melb_df['Landsize']\n",
    "sum_area=melb_df['BuildingArea']+melb_df['Landsize']\n",
    "\n",
    "melb_df['AreaRatio']=diff_area/sum_area\n",
    "display(melb_df['AreaRatio'])"
   ]
  },
  {
   "cell_type": "code",
   "execution_count": null,
   "metadata": {},
   "outputs": [],
   "source": [
    "melb_df['Date'] = pd.to_datetime(melb_df['Date'], dayfirst=True)\n",
    "display(melb_df['Date'])"
   ]
  },
  {
   "cell_type": "code",
   "execution_count": null,
   "metadata": {},
   "outputs": [],
   "source": [
    "years_sold = melb_df['Date'].dt.year\n",
    "\n",
    "print('Min year sold:', years_sold.min())\n",
    "print('Max year sold:', years_sold.max())\n",
    "print('Mode year sold:', years_sold.mode()[0])"
   ]
  },
  {
   "cell_type": "code",
   "execution_count": null,
   "metadata": {},
   "outputs": [],
   "source": [
    "#Теперь попробуем понять, на какие месяцы приходится пик продаж объектов недвижимости. \n",
    "# Для этого выделим атрибут dt.month и на этот раз занесём результат в столбец MonthSale, \n",
    "# а затем найдём относительную частоту продаж для каждого месяца от общего количества продаж — \n",
    "# для этого используем метод value_counts() с параметром normalize (вывод в долях)\n",
    "\n",
    "melb_df['MonthSale'] = melb_df['Date'].dt.month\n",
    "melb_df['MonthSale'].value_counts(normalize=True)\n",
    "display(melb_df['MonthSale'].value_counts(normalize=True))\n"
   ]
  },
  {
   "cell_type": "code",
   "execution_count": null,
   "metadata": {},
   "outputs": [],
   "source": [
    "#Часто бывает такая ситуация, что необходимо вычислять интервалы между двумя временными промежутками. \n",
    "# Например, можно вычислить, сколько дней прошло с 1 января 2016 года до момента продажи объекта. \n",
    "# Для этого можно просто найти разницу между датами продаж и заявленной датой, представленной в формате datetime\n",
    "\n",
    "delta_days = melb_df['Date'] - pd.to_datetime('2016-01-01')\n",
    "#Чтобы превратить количество дней из формата интервала в формат целого числа дней, \n",
    "# можно воспользоваться аксессором dt для формата timedelta и извлечь из него атрибут days:\n",
    "\n",
    "display(delta_days.dt.days)"
   ]
  },
  {
   "cell_type": "code",
   "execution_count": null,
   "metadata": {},
   "outputs": [],
   "source": [
    "#Рассмотрим другой пример. Давайте создадим признак возраста объекта недвижимости в годах на момент продажи. \n",
    "# Для этого выделим из столбца с датой продажи год и вычтем из него год постройки здания. \n",
    "# Результат оформим в виде столбца AgeBuilding:\n",
    "melb_df['AgeBuilding']=melb_df['Date'].dt.year-melb_df['YearBuilt']\n",
    "display(melb_df['AgeBuilding'])\n",
    "# удалить теперь не нужный столбец\n",
    "\n",
    "melb_df=melb_df.drop('YearBuilt', axis=1)"
   ]
  },
  {
   "cell_type": "code",
   "execution_count": null,
   "metadata": {},
   "outputs": [],
   "source": [
    "#Создайте в таблице melb_df признак WeekdaySale (день недели). \n",
    "# Найдите, сколько объектов недвижимости было продано в выходные (суббота и воскресенье), \n",
    "# результат занесите в переменную weekend_count. \n",
    "# В качестве ответа введите результат вывода переменной weekend_count.\n",
    "melb_df['WeekdaySale']=melb_df['Date'].dt.dayofweek\n",
    "\n",
    "weekend_count=melb_df[(melb_df['WeekdaySale']==5)].shape[0]+melb_df[(melb_df['WeekdaySale']==6)].shape[0]\n",
    "\n",
    "\n",
    "display(melb_df['WeekdaySale'])"
   ]
  },
  {
   "cell_type": "code",
   "execution_count": 27,
   "metadata": {},
   "outputs": [
    {
     "data": {
      "text/plain": [
       "1081199.0"
      ]
     },
     "metadata": {},
     "output_type": "display_data"
    }
   ],
   "source": [
    "def get_weekend(weekday):\n",
    "    if weekday ==5 or weekday==6:\n",
    "        return 1\n",
    "   \n",
    "melb_df['Weekend'] = melb_df['WeekdaySale'].apply(get_weekend)\n",
    "display(round(melb_df[melb_df['Weekend']==1]['Price'].mean(), 0))\n",
    "\n"
   ]
  },
  {
   "cell_type": "code",
   "execution_count": null,
   "metadata": {},
   "outputs": [],
   "source": []
  },
  {
   "cell_type": "code",
   "execution_count": null,
   "metadata": {},
   "outputs": [],
   "source": [
    "# На вход данной функции поступает строка с адресом.\n",
    "def get_street_type(address):\n",
    "# Создаём список географических пометок exclude_list.\n",
    "    exclude_list = ['N', 'S', 'W', 'E']\n",
    "# Метод split() разбивает строку на слова по пробелу.\n",
    "# В результате получаем список слов в строке и заносим его в переменную address_list.\n",
    "    address_list = address.split(' ')\n",
    "# Обрезаем список, оставляя в нём только последний элемент,\n",
    "# потенциальный подтип улицы, и заносим в переменную street_type.\n",
    "    street_type = address_list[-1]\n",
    "# Делаем проверку на то, что полученный подтип является географической пометкой.\n",
    "# Для этого проверяем его на наличие в списке exclude_list.\n",
    "    if street_type in exclude_list:\n",
    "# Если переменная street_type является географической пометкой,\n",
    "# переопределяем её на второй элемент с конца списка address_list.\n",
    "        street_type = address_list[-2]\n",
    "# Возвращаем переменную street_type, в которой хранится подтип улицы.\n",
    "    return street_type\n",
    "\n",
    "street_types = melb_df['Address'].apply(get_street_type)\n",
    "display(street_types)\n",
    "\n",
    "street_types = street_types.apply(lambda x: 'Av' if x == 'Avenue' else x)\n",
    "street_types = street_types.apply(lambda x: 'Bvd' if x == 'Boulevard' else x)\n",
    "street_types = street_types.apply(lambda x: 'Pde' if x == 'Parade' else x)\n",
    "\n",
    "\n",
    "print(street_types.nunique())\n",
    "\n",
    "display(street_types.value_counts())\n",
    "\n",
    "#Для этого к результату метода value_counts применим метод nlargest(),\n",
    "# который возвращает n наибольших значений из Series. Зададим n=10, \n",
    "# т. е. мы хотим отобрать десять наиболее популярных подтипов. \n",
    "# Извлечём их названия с помощью атрибута index,\n",
    "# а результат занесём в переменную popular_stypes:\n",
    "\n",
    "popular_stypes =street_types.value_counts().nlargest(10).index\n",
    "print(popular_stypes)\n",
    "\n",
    "#введём lambda-функцию, которая будет проверять, есть ли строка x в этом перечне, \n",
    "# и, если это так, lambda-функция будет возвращать x, \n",
    "# в противном случае она будет возвращать строку 'other'. \n",
    "# Наконец, применим такую функцию к Series street_types, полученной ранее, \n",
    "# а результат определим в новый столбец таблицы StreetType\n",
    "\n",
    "melb_df['StreetType'] = street_types.apply(lambda x: x if x in popular_stypes else 'other')\n",
    "display(melb_df['StreetType'])\n",
    "print(melb_df['StreetType'].nunique())\n"
   ]
  },
  {
   "cell_type": "code",
   "execution_count": 39,
   "metadata": {},
   "outputs": [
    {
     "data": {
      "text/plain": [
       "0        NaN\n",
       "1        NaN\n",
       "2        NaN\n",
       "3        NaN\n",
       "4        NaN\n",
       "        ... \n",
       "13575    NaN\n",
       "13576    NaN\n",
       "13577    NaN\n",
       "13578    NaN\n",
       "13579    NaN\n",
       "Name: Sellers, Length: 13580, dtype: object"
      ]
     },
     "metadata": {},
     "output_type": "display_data"
    }
   ],
   "source": [
    "sellers=melb_df['SellerG'].value_counts()\n",
    "popular_sellers =sellers.nlargest(49).index\n",
    "melb_df['Sellers'] = sellers.apply(lambda x: x if x in popular_sellers else \"other\")\n",
    "display(melb_df['Sellers'])"
   ]
  }
 ],
 "metadata": {
  "kernelspec": {
   "display_name": "Python 3.9.13 64-bit",
   "language": "python",
   "name": "python3"
  },
  "language_info": {
   "codemirror_mode": {
    "name": "ipython",
    "version": 3
   },
   "file_extension": ".py",
   "mimetype": "text/x-python",
   "name": "python",
   "nbconvert_exporter": "python",
   "pygments_lexer": "ipython3",
   "version": "3.9.13"
  },
  "orig_nbformat": 4,
  "vscode": {
   "interpreter": {
    "hash": "75fc1d878470ca4199cebcc89e8bd189d3270877c6c91d88001610ec04f91d72"
   }
  }
 },
 "nbformat": 4,
 "nbformat_minor": 2
}
