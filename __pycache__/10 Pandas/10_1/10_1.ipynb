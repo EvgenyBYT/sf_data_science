{
 "cells": [
  {
   "cell_type": "code",
   "execution_count": 1,
   "metadata": {},
   "outputs": [],
   "source": [
    "import pandas as pd\n",
    "countries_df = pd.DataFrame(\n",
    "    data = [\n",
    "        ['Англия', 56.29, 133396],\n",
    "        ['Канада', 38.05, 9984670],\n",
    "        ['США', 322.28, 9826630],\n",
    "        ['Россия', 146.24, 17125191],\n",
    "        ['Украина', 45.5, 603628],\n",
    "        ['Беларусь', 9.5, 207600],\n",
    "        ['Казахстан', 17.04, 2724902]\n",
    "    ],\n",
    "    columns= ['country', 'population', 'square'],\n",
    "    index = ['UK', 'CA', 'US', 'RU', 'UA', 'BY', 'KZ']\n",
    ")\n",
    "countries_df.to_csv('data/countries',index=False, sep=';')"
   ]
  },
  {
   "cell_type": "code",
   "execution_count": 18,
   "metadata": {},
   "outputs": [],
   "source": [
    "import pandas as pd\n",
    "melb_data = pd.read_csv ('data/data_1.csv',sep=',')\n",
    "\n"
   ]
  },
  {
   "cell_type": "code",
   "execution_count": 19,
   "metadata": {},
   "outputs": [
    {
     "name": "stdout",
     "output_type": "stream",
     "text": [
      "<class 'pandas.core.frame.DataFrame'>\n",
      "RangeIndex: 13580 entries, 0 to 13579\n",
      "Data columns (total 23 columns):\n",
      " #   Column         Non-Null Count  Dtype  \n",
      "---  ------         --------------  -----  \n",
      " 0   index          13580 non-null  object \n",
      " 1   Suburb         0 non-null      float64\n",
      " 2   Address        0 non-null      float64\n",
      " 3   Rooms          0 non-null      float64\n",
      " 4   Type           0 non-null      float64\n",
      " 5   Price          0 non-null      float64\n",
      " 6   Method         0 non-null      float64\n",
      " 7   SellerG        0 non-null      float64\n",
      " 8   Date           0 non-null      float64\n",
      " 9   Distance       0 non-null      float64\n",
      " 10  Postcode       0 non-null      float64\n",
      " 11  Bedroom        0 non-null      float64\n",
      " 12  Bathroom       0 non-null      float64\n",
      " 13  Car            0 non-null      float64\n",
      " 14  Landsize       0 non-null      float64\n",
      " 15  BuildingArea   0 non-null      float64\n",
      " 16  YearBuilt      0 non-null      float64\n",
      " 17  CouncilArea    0 non-null      float64\n",
      " 18  Lattitude      0 non-null      float64\n",
      " 19  Longtitude     0 non-null      float64\n",
      " 20  Regionname     0 non-null      float64\n",
      " 21  Propertycount  0 non-null      float64\n",
      " 22  Coordinates    0 non-null      float64\n",
      "dtypes: float64(22), object(1)\n",
      "memory usage: 2.4+ MB\n"
     ]
    },
    {
     "data": {
      "text/plain": [
       "None"
      ]
     },
     "metadata": {},
     "output_type": "display_data"
    }
   ],
   "source": [
    "display(melb_data.info())"
   ]
  }
 ],
 "metadata": {
  "kernelspec": {
   "display_name": "Python 3.9.13 64-bit",
   "language": "python",
   "name": "python3"
  },
  "language_info": {
   "codemirror_mode": {
    "name": "ipython",
    "version": 3
   },
   "file_extension": ".py",
   "mimetype": "text/x-python",
   "name": "python",
   "nbconvert_exporter": "python",
   "pygments_lexer": "ipython3",
   "version": "3.9.13"
  },
  "orig_nbformat": 4,
  "vscode": {
   "interpreter": {
    "hash": "75fc1d878470ca4199cebcc89e8bd189d3270877c6c91d88001610ec04f91d72"
   }
  }
 },
 "nbformat": 4,
 "nbformat_minor": 2
}
